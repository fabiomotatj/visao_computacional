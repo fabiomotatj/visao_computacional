{
 "cells": [
  {
   "cell_type": "code",
   "execution_count": 1,
   "metadata": {},
   "outputs": [],
   "source": [
    "import io\n",
    "import itertools\n",
    "\n",
    "import numpy as np\n",
    "import sklearn.metrics\n",
    "\n",
    "import tensorflow as tf\n",
    "from tensorboard.plugins.hparams import api as hp\n",
    "\n",
    "from PIL import Image\n",
    "\n",
    "import matplotlib.pyplot as plt\n",
    "\n",
    "import matplotlib.image as mpimg"
   ]
  },
  {
   "cell_type": "code",
   "execution_count": 2,
   "metadata": {},
   "outputs": [],
   "source": [
    "data_train = np.load(r\"../Dataset/Primary categories - Train.npz\")\n",
    "data_val = np.load(r\"../Dataset/Primary categories - Validation.npz\")\n",
    "data_test = np.load(r\"../Dataset/Primary categories - Test.npz\")"
   ]
  },
  {
   "cell_type": "code",
   "execution_count": 3,
   "metadata": {},
   "outputs": [],
   "source": [
    "# Extracting the arrays from the imported data\n",
    "images_train = data_train['images']\n",
    "labels_train = data_train['labels']\n",
    "\n",
    "images_val = data_val['images']\n",
    "labels_val = data_val['labels']\n",
    "\n",
    "images_test = data_test['images']\n",
    "labels_test = data_test['labels']"
   ]
  },
  {
   "cell_type": "code",
   "execution_count": 4,
   "metadata": {},
   "outputs": [],
   "source": [
    "images_train = images_train/255.0\n",
    "images_val = images_val/255.0\n",
    "images_test = images_test/255.0"
   ]
  },
  {
   "cell_type": "code",
   "execution_count": 5,
   "metadata": {},
   "outputs": [],
   "source": [
    "EPOCHS = 15\n",
    "BATCH_SIZE = 64"
   ]
  },
  {
   "cell_type": "code",
   "execution_count": 9,
   "metadata": {},
   "outputs": [],
   "source": [
    "# Wrapping our model and training in a function\n",
    "def train_test_model():\n",
    "    \n",
    "    # Outlining the model/architecture of our CNN\n",
    "    model = tf.keras.Sequential([\n",
    "        tf.keras.layers.Conv2D(32, 3, activation='relu', input_shape=(120,90,3)),\n",
    "        tf.keras.layers.MaxPooling2D(pool_size=(2,2)),\n",
    "        tf.keras.layers.Conv2D(32, 3, activation='relu'),\n",
    "        tf.keras.layers.MaxPooling2D(pool_size=(2,2)),\n",
    "        tf.keras.layers.Flatten(),\n",
    "        tf.keras.layers.Dense(3)\n",
    "    ])\n",
    "    \n",
    "    # Defining the loss function\n",
    "    loss_fn = tf.keras.losses.SparseCategoricalCrossentropy(from_logits=True)\n",
    "\n",
    "    # Compiling the model\n",
    "    model.compile(optimizer='adam', loss=loss_fn, metrics=['accuracy'])\n",
    "\n",
    "    # Defining the logging directory\n",
    "    log_dir = \"Logs\\\\Model 1\\\\fit\\\\\" + \"run-good\"\n",
    "    \n",
    "    \n",
    "    def plot_confusion_matrix(cm, class_names):\n",
    "        \"\"\"\n",
    "        Returns a matplotlib figure containing the plotted confusion matrix.\n",
    "\n",
    "        Args:\n",
    "          cm (array, shape = [n, n]): a confusion matrix of integer classes\n",
    "          class_names (array, shape = [n]): String names of the integer classes\n",
    "        \"\"\"\n",
    "        figure = plt.figure(figsize=(12, 12))\n",
    "        plt.imshow(cm, interpolation='nearest', cmap=plt.cm.Blues)\n",
    "        plt.title(\"Confusion matrix\")\n",
    "        plt.colorbar()\n",
    "        tick_marks = np.arange(len(class_names))\n",
    "        plt.xticks(tick_marks, class_names, rotation=45)\n",
    "        plt.yticks(tick_marks, class_names)\n",
    "\n",
    "        # Normalize the confusion matrix.\n",
    "        cm = np.around(cm.astype('float') / cm.sum(axis=1)[:, np.newaxis], decimals=2)\n",
    "\n",
    "        # Use white text if squares are dark; otherwise black.\n",
    "        threshold = cm.max() / 2.\n",
    "        for i, j in itertools.product(range(cm.shape[0]), range(cm.shape[1])):\n",
    "            color = \"white\" if cm[i, j] > threshold else \"black\"\n",
    "            plt.text(j, i, cm[i, j], horizontalalignment=\"center\", color=color)\n",
    "\n",
    "        plt.tight_layout()\n",
    "        plt.ylabel('True label')\n",
    "        plt.xlabel('Predicted label')\n",
    "        return figure\n",
    "    \n",
    "    \n",
    "    \n",
    "    def plot_to_image(figure):\n",
    "        \"\"\"Converts the matplotlib plot specified by 'figure' to a PNG image and\n",
    "        returns it. The supplied figure is closed and inaccessible after this call.\"\"\"\n",
    "        # Save the plot to a PNG in memory.\n",
    "        buf = io.BytesIO()\n",
    "        plt.savefig(buf, format='png')\n",
    "        # Closing the figure prevents it from being displayed directly inside\n",
    "        # the notebook.\n",
    "        plt.close(figure)\n",
    "        buf.seek(0)\n",
    "        # Convert PNG buffer to TF image\n",
    "        image = tf.image.decode_png(buf.getvalue(), channels=4)\n",
    "        # Add the batch dimension\n",
    "        image = tf.expand_dims(image, 0)\n",
    "        return image\n",
    "    \n",
    "    \n",
    "    # Defining a file writer for Confusion Matrix logging purposes\n",
    "    file_writer_cm = tf.summary.create_file_writer(log_dir + '/cm')     \n",
    "    \n",
    "    \n",
    "    def log_confusion_matrix(epoch, logs):\n",
    "        # Use the model to predict the values from the validation dataset.\n",
    "        test_pred_raw = model.predict(images_val)\n",
    "        test_pred = np.argmax(test_pred_raw, axis=1)\n",
    "\n",
    "        # Calculate the confusion matrix.\n",
    "        cm = sklearn.metrics.confusion_matrix(labels_val, test_pred)\n",
    "        # Log the confusion matrix as an image summary.\n",
    "        figure = plot_confusion_matrix(cm, class_names=['Glasses/Sunglasses', 'Trousers/Jeans', 'Shoes'])\n",
    "        cm_image = plot_to_image(figure)\n",
    "\n",
    "        # Log the confusion matrix as an image summary.\n",
    "        with file_writer_cm.as_default():\n",
    "            tf.summary.image(\"Confusion Matrix\", cm_image, step=epoch)\n",
    "    \n",
    "    \n",
    "    \n",
    "    # Define the Tensorboard and Confusion Matrix callbacks.\n",
    "    tensorboard_callback = tf.keras.callbacks.TensorBoard(log_dir=log_dir, histogram_freq=1, profile_batch=0)\n",
    "    cm_callback = tf.keras.callbacks.LambdaCallback(on_epoch_end=log_confusion_matrix)\n",
    "\n",
    "    \n",
    "    # Defining early stopping to prevent overfitting\n",
    "    early_stopping = tf.keras.callbacks.EarlyStopping(\n",
    "        monitor = 'val_loss',\n",
    "        mode = 'auto',\n",
    "        min_delta = 0,\n",
    "        patience = 2,\n",
    "        verbose = 0, \n",
    "        restore_best_weights = True\n",
    "    )\n",
    "    \n",
    "    # Training the model\n",
    "    model.fit(\n",
    "        images_train,\n",
    "        labels_train,\n",
    "        epochs = EPOCHS,\n",
    "        batch_size = BATCH_SIZE,\n",
    "        callbacks = [tensorboard_callback, cm_callback, early_stopping],\n",
    "        validation_data = (images_val,labels_val),\n",
    "        verbose = 2\n",
    "    )\n",
    "    \n",
    "    \n",
    "    # Evaluating the model's performance on the validation set\n",
    "    _, accuracy = model.evaluate(images_val,labels_val)\n",
    "    \n",
    "    # Saving the current model for future reference\n",
    "    model.save(r\"ModelCategory.keras\")\n",
    "    \n",
    "    return accuracy"
   ]
  },
  {
   "cell_type": "code",
   "execution_count": 10,
   "metadata": {},
   "outputs": [
    {
     "name": "stderr",
     "output_type": "stream",
     "text": [
      "C:\\Users\\F_Mota\\AppData\\Roaming\\Python\\Python310\\site-packages\\keras\\src\\layers\\convolutional\\base_conv.py:107: UserWarning: Do not pass an `input_shape`/`input_dim` argument to a layer. When using Sequential models, prefer using an `Input(shape)` object as the first layer in the model instead.\n",
      "  super().__init__(activity_regularizer=activity_regularizer, **kwargs)\n"
     ]
    },
    {
     "name": "stdout",
     "output_type": "stream",
     "text": [
      "Epoch 1/15\n",
      "\u001b[1m51/51\u001b[0m \u001b[32m━━━━━━━━━━━━━━━━━━━━\u001b[0m\u001b[37m\u001b[0m \u001b[1m1s\u001b[0m 10ms/step\n",
      "203/203 - 13s - 66ms/step - accuracy: 0.9792 - loss: 0.0728 - val_accuracy: 0.9975 - val_loss: 0.0146\n",
      "Epoch 2/15\n",
      "\u001b[1m51/51\u001b[0m \u001b[32m━━━━━━━━━━━━━━━━━━━━\u001b[0m\u001b[37m\u001b[0m \u001b[1m0s\u001b[0m 9ms/step\n",
      "203/203 - 13s - 62ms/step - accuracy: 0.9988 - loss: 0.0136 - val_accuracy: 0.9981 - val_loss: 0.0173\n",
      "Epoch 3/15\n",
      "\u001b[1m51/51\u001b[0m \u001b[32m━━━━━━━━━━━━━━━━━━━━\u001b[0m\u001b[37m\u001b[0m \u001b[1m1s\u001b[0m 10ms/step\n",
      "203/203 - 12s - 59ms/step - accuracy: 0.9990 - loss: 0.0095 - val_accuracy: 0.9988 - val_loss: 0.0048\n",
      "Epoch 4/15\n",
      "\u001b[1m51/51\u001b[0m \u001b[32m━━━━━━━━━━━━━━━━━━━━\u001b[0m\u001b[37m\u001b[0m \u001b[1m1s\u001b[0m 10ms/step\n",
      "203/203 - 13s - 62ms/step - accuracy: 0.9987 - loss: 0.0090 - val_accuracy: 0.9957 - val_loss: 0.0247\n",
      "Epoch 5/15\n",
      "\u001b[1m51/51\u001b[0m \u001b[32m━━━━━━━━━━━━━━━━━━━━\u001b[0m\u001b[37m\u001b[0m \u001b[1m1s\u001b[0m 11ms/step\n",
      "203/203 - 12s - 60ms/step - accuracy: 0.9988 - loss: 0.0078 - val_accuracy: 0.9988 - val_loss: 0.0055\n",
      "\u001b[1m51/51\u001b[0m \u001b[32m━━━━━━━━━━━━━━━━━━━━\u001b[0m\u001b[37m\u001b[0m \u001b[1m1s\u001b[0m 11ms/step - accuracy: 0.9996 - loss: 0.0033\n"
     ]
    }
   ],
   "source": [
    "#%load_ext tensorboard\n",
    "#%tensorboard --logdir \"Logs/Model 1/hparam_tuning\"\n",
    "\n",
    "res = train_test_model()"
   ]
  },
  {
   "cell_type": "code",
   "execution_count": 5,
   "metadata": {},
   "outputs": [],
   "source": [
    "caption_model = tf.keras.models.load_model('ModelCategory.keras')"
   ]
  },
  {
   "cell_type": "code",
   "execution_count": 6,
   "metadata": {},
   "outputs": [],
   "source": [
    "def load_image_from_path(img_path):\n",
    "    image = Image.open(img_path)\n",
    "    image = image.resize((120, 90))\n",
    "    return np.asarray(image)/255\n"
   ]
  },
  {
   "cell_type": "code",
   "execution_count": 7,
   "metadata": {},
   "outputs": [],
   "source": [
    "dict = {\n",
    "  0: \"Glasses/Sunglasses\",\n",
    "  1: \"Trousers/Jeans\",\n",
    "  2: \"Shoes\"\n",
    "}"
   ]
  },
  {
   "cell_type": "code",
   "execution_count": null,
   "metadata": {},
   "outputs": [],
   "source": []
  },
  {
   "cell_type": "code",
   "execution_count": 12,
   "metadata": {},
   "outputs": [
    {
     "ename": "InvalidArgumentError",
     "evalue": "Graph execution error:\n\nDetected at node convolution defined at (most recent call last):\n<stack traces unavailable>\nDepth of input must be a multiple of depth of filter: 4 vs 3\n\nStack trace for op definition: \nFile \"c:\\Program Files\\Python310\\lib\\runpy.py\", line 196, in _run_module_as_main\nFile \"c:\\Program Files\\Python310\\lib\\runpy.py\", line 86, in _run_code\nFile \"C:\\Users\\F_Mota\\AppData\\Roaming\\Python\\Python310\\site-packages\\ipykernel_launcher.py\", line 18, in <module>\nFile \"C:\\Users\\F_Mota\\AppData\\Roaming\\Python\\Python310\\site-packages\\traitlets\\config\\application.py\", line 1075, in launch_instance\nFile \"C:\\Users\\F_Mota\\AppData\\Roaming\\Python\\Python310\\site-packages\\ipykernel\\kernelapp.py\", line 739, in start\nFile \"C:\\Users\\F_Mota\\AppData\\Roaming\\Python\\Python310\\site-packages\\tornado\\platform\\asyncio.py\", line 205, in start\nFile \"c:\\Program Files\\Python310\\lib\\asyncio\\base_events.py\", line 600, in run_forever\nFile \"c:\\Program Files\\Python310\\lib\\asyncio\\base_events.py\", line 1896, in _run_once\nFile \"c:\\Program Files\\Python310\\lib\\asyncio\\events.py\", line 80, in _run\nFile \"C:\\Users\\F_Mota\\AppData\\Roaming\\Python\\Python310\\site-packages\\ipykernel\\kernelbase.py\", line 545, in dispatch_queue\nFile \"C:\\Users\\F_Mota\\AppData\\Roaming\\Python\\Python310\\site-packages\\ipykernel\\kernelbase.py\", line 534, in process_one\nFile \"C:\\Users\\F_Mota\\AppData\\Roaming\\Python\\Python310\\site-packages\\ipykernel\\kernelbase.py\", line 437, in dispatch_shell\nFile \"C:\\Users\\F_Mota\\AppData\\Roaming\\Python\\Python310\\site-packages\\ipykernel\\ipkernel.py\", line 362, in execute_request\nFile \"C:\\Users\\F_Mota\\AppData\\Roaming\\Python\\Python310\\site-packages\\ipykernel\\kernelbase.py\", line 778, in execute_request\nFile \"C:\\Users\\F_Mota\\AppData\\Roaming\\Python\\Python310\\site-packages\\ipykernel\\ipkernel.py\", line 449, in do_execute\nFile \"C:\\Users\\F_Mota\\AppData\\Roaming\\Python\\Python310\\site-packages\\ipykernel\\zmqshell.py\", line 549, in run_cell\nFile \"C:\\Users\\F_Mota\\AppData\\Roaming\\Python\\Python310\\site-packages\\IPython\\core\\interactiveshell.py\", line 3075, in run_cell\nFile \"C:\\Users\\F_Mota\\AppData\\Roaming\\Python\\Python310\\site-packages\\IPython\\core\\interactiveshell.py\", line 3130, in _run_cell\nFile \"C:\\Users\\F_Mota\\AppData\\Roaming\\Python\\Python310\\site-packages\\IPython\\core\\async_helpers.py\", line 128, in _pseudo_sync_runner\nFile \"C:\\Users\\F_Mota\\AppData\\Roaming\\Python\\Python310\\site-packages\\IPython\\core\\interactiveshell.py\", line 3334, in run_cell_async\nFile \"C:\\Users\\F_Mota\\AppData\\Roaming\\Python\\Python310\\site-packages\\IPython\\core\\interactiveshell.py\", line 3517, in run_ast_nodes\nFile \"C:\\Users\\F_Mota\\AppData\\Roaming\\Python\\Python310\\site-packages\\IPython\\core\\interactiveshell.py\", line 3577, in run_code\nFile \"C:\\Users\\F_Mota\\AppData\\Local\\Temp\\ipykernel_30264\\2426496283.py\", line 9, in <module>\nFile \"C:\\Users\\F_Mota\\AppData\\Roaming\\Python\\Python310\\site-packages\\keras\\src\\utils\\traceback_utils.py\", line 117, in error_handler\nFile \"C:\\Users\\F_Mota\\AppData\\Roaming\\Python\\Python310\\site-packages\\keras\\src\\backend\\tensorflow\\trainer.py\", line 508, in predict\nFile \"C:\\Users\\F_Mota\\AppData\\Roaming\\Python\\Python310\\site-packages\\keras\\src\\backend\\tensorflow\\trainer.py\", line 208, in one_step_on_data_distributed\nFile \"C:\\Users\\F_Mota\\AppData\\Roaming\\Python\\Python310\\site-packages\\keras\\src\\backend\\tensorflow\\trainer.py\", line 198, in one_step_on_data\nFile \"C:\\Users\\F_Mota\\AppData\\Roaming\\Python\\Python310\\site-packages\\keras\\src\\backend\\tensorflow\\trainer.py\", line 96, in predict_step\nFile \"C:\\Users\\F_Mota\\AppData\\Roaming\\Python\\Python310\\site-packages\\keras\\src\\utils\\traceback_utils.py\", line 117, in error_handler\nFile \"C:\\Users\\F_Mota\\AppData\\Roaming\\Python\\Python310\\site-packages\\keras\\src\\layers\\layer.py\", line 882, in __call__\nFile \"C:\\Users\\F_Mota\\AppData\\Roaming\\Python\\Python310\\site-packages\\keras\\src\\utils\\traceback_utils.py\", line 117, in error_handler\nFile \"C:\\Users\\F_Mota\\AppData\\Roaming\\Python\\Python310\\site-packages\\keras\\src\\ops\\operation.py\", line 46, in __call__\nFile \"C:\\Users\\F_Mota\\AppData\\Roaming\\Python\\Python310\\site-packages\\keras\\src\\utils\\traceback_utils.py\", line 156, in error_handler\nFile \"C:\\Users\\F_Mota\\AppData\\Roaming\\Python\\Python310\\site-packages\\keras\\src\\models\\sequential.py\", line 209, in call\nFile \"C:\\Users\\F_Mota\\AppData\\Roaming\\Python\\Python310\\site-packages\\keras\\src\\models\\functional.py\", line 175, in call\nFile \"C:\\Users\\F_Mota\\AppData\\Roaming\\Python\\Python310\\site-packages\\keras\\src\\ops\\function.py\", line 171, in _run_through_graph\nFile \"C:\\Users\\F_Mota\\AppData\\Roaming\\Python\\Python310\\site-packages\\keras\\src\\models\\functional.py\", line 556, in call\nFile \"C:\\Users\\F_Mota\\AppData\\Roaming\\Python\\Python310\\site-packages\\keras\\src\\utils\\traceback_utils.py\", line 117, in error_handler\nFile \"C:\\Users\\F_Mota\\AppData\\Roaming\\Python\\Python310\\site-packages\\keras\\src\\layers\\layer.py\", line 882, in __call__\nFile \"C:\\Users\\F_Mota\\AppData\\Roaming\\Python\\Python310\\site-packages\\keras\\src\\utils\\traceback_utils.py\", line 117, in error_handler\nFile \"C:\\Users\\F_Mota\\AppData\\Roaming\\Python\\Python310\\site-packages\\keras\\src\\ops\\operation.py\", line 46, in __call__\nFile \"C:\\Users\\F_Mota\\AppData\\Roaming\\Python\\Python310\\site-packages\\keras\\src\\utils\\traceback_utils.py\", line 156, in error_handler\nFile \"C:\\Users\\F_Mota\\AppData\\Roaming\\Python\\Python310\\site-packages\\keras\\src\\layers\\convolutional\\base_conv.py\", line 243, in call\nFile \"C:\\Users\\F_Mota\\AppData\\Roaming\\Python\\Python310\\site-packages\\keras\\src\\layers\\convolutional\\base_conv.py\", line 233, in convolution_op\nFile \"C:\\Users\\F_Mota\\AppData\\Roaming\\Python\\Python310\\site-packages\\keras\\src\\ops\\nn.py\", line 909, in conv\nFile \"C:\\Users\\F_Mota\\AppData\\Roaming\\Python\\Python310\\site-packages\\keras\\src\\backend\\tensorflow\\nn.py\", line 254, in conv\nFile \"C:\\Users\\F_Mota\\AppData\\Roaming\\Python\\Python310\\site-packages\\keras\\src\\backend\\tensorflow\\nn.py\", line 244, in _conv_xla\nFile \"C:\\Users\\F_Mota\\AppData\\Roaming\\Python\\Python310\\site-packages\\keras\\src\\backend\\tensorflow\\nn.py\", line 231, in _conv\n\n\t [[{{node convolution}}]]\n\ttf2xla conversion failed while converting __inference__conv_xla_461[]. Run with TF_DUMP_GRAPH_PREFIX=/path/to/dump/dir and --vmodule=xla_compiler=2 to obtain a dump of the compiled functions.\n\t [[sequential_1_1/conv2d_2_1/StatefulPartitionedCall]] [Op:__inference_one_step_on_data_distributed_491]",
     "output_type": "error",
     "traceback": [
      "\u001b[1;31m---------------------------------------------------------------------------\u001b[0m",
      "\u001b[1;31mInvalidArgumentError\u001b[0m                      Traceback (most recent call last)",
      "Cell \u001b[1;32mIn[12], line 9\u001b[0m\n\u001b[0;32m      4\u001b[0m res \u001b[38;5;241m=\u001b[39m np\u001b[38;5;241m.\u001b[39masarray([res])\n\u001b[0;32m      6\u001b[0m res[\u001b[38;5;241m0\u001b[39m:\u001b[38;5;241m1\u001b[39m]\u001b[38;5;241m.\u001b[39mshape\n\u001b[1;32m----> 9\u001b[0m pred \u001b[38;5;241m=\u001b[39m  \u001b[43mcaption_model\u001b[49m\u001b[38;5;241;43m.\u001b[39;49m\u001b[43mpredict\u001b[49m\u001b[43m(\u001b[49m\u001b[43mres\u001b[49m\u001b[43m)\u001b[49m\n\u001b[0;32m     10\u001b[0m label \u001b[38;5;241m=\u001b[39m np\u001b[38;5;241m.\u001b[39margmax(pred)\n\u001b[0;32m     11\u001b[0m \u001b[38;5;28mprint\u001b[39m(\u001b[38;5;28mdict\u001b[39m[label])\n",
      "File \u001b[1;32m~\\AppData\\Roaming\\Python\\Python310\\site-packages\\keras\\src\\utils\\traceback_utils.py:122\u001b[0m, in \u001b[0;36mfilter_traceback.<locals>.error_handler\u001b[1;34m(*args, **kwargs)\u001b[0m\n\u001b[0;32m    119\u001b[0m     filtered_tb \u001b[38;5;241m=\u001b[39m _process_traceback_frames(e\u001b[38;5;241m.\u001b[39m__traceback__)\n\u001b[0;32m    120\u001b[0m     \u001b[38;5;66;03m# To get the full stack trace, call:\u001b[39;00m\n\u001b[0;32m    121\u001b[0m     \u001b[38;5;66;03m# `keras.config.disable_traceback_filtering()`\u001b[39;00m\n\u001b[1;32m--> 122\u001b[0m     \u001b[38;5;28;01mraise\u001b[39;00m e\u001b[38;5;241m.\u001b[39mwith_traceback(filtered_tb) \u001b[38;5;28;01mfrom\u001b[39;00m \u001b[38;5;28;01mNone\u001b[39;00m\n\u001b[0;32m    123\u001b[0m \u001b[38;5;28;01mfinally\u001b[39;00m:\n\u001b[0;32m    124\u001b[0m     \u001b[38;5;28;01mdel\u001b[39;00m filtered_tb\n",
      "File \u001b[1;32m~\\AppData\\Roaming\\Python\\Python310\\site-packages\\tensorflow\\python\\eager\\execute.py:53\u001b[0m, in \u001b[0;36mquick_execute\u001b[1;34m(op_name, num_outputs, inputs, attrs, ctx, name)\u001b[0m\n\u001b[0;32m     51\u001b[0m \u001b[38;5;28;01mtry\u001b[39;00m:\n\u001b[0;32m     52\u001b[0m   ctx\u001b[38;5;241m.\u001b[39mensure_initialized()\n\u001b[1;32m---> 53\u001b[0m   tensors \u001b[38;5;241m=\u001b[39m pywrap_tfe\u001b[38;5;241m.\u001b[39mTFE_Py_Execute(ctx\u001b[38;5;241m.\u001b[39m_handle, device_name, op_name,\n\u001b[0;32m     54\u001b[0m                                       inputs, attrs, num_outputs)\n\u001b[0;32m     55\u001b[0m \u001b[38;5;28;01mexcept\u001b[39;00m core\u001b[38;5;241m.\u001b[39m_NotOkStatusException \u001b[38;5;28;01mas\u001b[39;00m e:\n\u001b[0;32m     56\u001b[0m   \u001b[38;5;28;01mif\u001b[39;00m name \u001b[38;5;129;01mis\u001b[39;00m \u001b[38;5;129;01mnot\u001b[39;00m \u001b[38;5;28;01mNone\u001b[39;00m:\n",
      "\u001b[1;31mInvalidArgumentError\u001b[0m: Graph execution error:\n\nDetected at node convolution defined at (most recent call last):\n<stack traces unavailable>\nDepth of input must be a multiple of depth of filter: 4 vs 3\n\nStack trace for op definition: \nFile \"c:\\Program Files\\Python310\\lib\\runpy.py\", line 196, in _run_module_as_main\nFile \"c:\\Program Files\\Python310\\lib\\runpy.py\", line 86, in _run_code\nFile \"C:\\Users\\F_Mota\\AppData\\Roaming\\Python\\Python310\\site-packages\\ipykernel_launcher.py\", line 18, in <module>\nFile \"C:\\Users\\F_Mota\\AppData\\Roaming\\Python\\Python310\\site-packages\\traitlets\\config\\application.py\", line 1075, in launch_instance\nFile \"C:\\Users\\F_Mota\\AppData\\Roaming\\Python\\Python310\\site-packages\\ipykernel\\kernelapp.py\", line 739, in start\nFile \"C:\\Users\\F_Mota\\AppData\\Roaming\\Python\\Python310\\site-packages\\tornado\\platform\\asyncio.py\", line 205, in start\nFile \"c:\\Program Files\\Python310\\lib\\asyncio\\base_events.py\", line 600, in run_forever\nFile \"c:\\Program Files\\Python310\\lib\\asyncio\\base_events.py\", line 1896, in _run_once\nFile \"c:\\Program Files\\Python310\\lib\\asyncio\\events.py\", line 80, in _run\nFile \"C:\\Users\\F_Mota\\AppData\\Roaming\\Python\\Python310\\site-packages\\ipykernel\\kernelbase.py\", line 545, in dispatch_queue\nFile \"C:\\Users\\F_Mota\\AppData\\Roaming\\Python\\Python310\\site-packages\\ipykernel\\kernelbase.py\", line 534, in process_one\nFile \"C:\\Users\\F_Mota\\AppData\\Roaming\\Python\\Python310\\site-packages\\ipykernel\\kernelbase.py\", line 437, in dispatch_shell\nFile \"C:\\Users\\F_Mota\\AppData\\Roaming\\Python\\Python310\\site-packages\\ipykernel\\ipkernel.py\", line 362, in execute_request\nFile \"C:\\Users\\F_Mota\\AppData\\Roaming\\Python\\Python310\\site-packages\\ipykernel\\kernelbase.py\", line 778, in execute_request\nFile \"C:\\Users\\F_Mota\\AppData\\Roaming\\Python\\Python310\\site-packages\\ipykernel\\ipkernel.py\", line 449, in do_execute\nFile \"C:\\Users\\F_Mota\\AppData\\Roaming\\Python\\Python310\\site-packages\\ipykernel\\zmqshell.py\", line 549, in run_cell\nFile \"C:\\Users\\F_Mota\\AppData\\Roaming\\Python\\Python310\\site-packages\\IPython\\core\\interactiveshell.py\", line 3075, in run_cell\nFile \"C:\\Users\\F_Mota\\AppData\\Roaming\\Python\\Python310\\site-packages\\IPython\\core\\interactiveshell.py\", line 3130, in _run_cell\nFile \"C:\\Users\\F_Mota\\AppData\\Roaming\\Python\\Python310\\site-packages\\IPython\\core\\async_helpers.py\", line 128, in _pseudo_sync_runner\nFile \"C:\\Users\\F_Mota\\AppData\\Roaming\\Python\\Python310\\site-packages\\IPython\\core\\interactiveshell.py\", line 3334, in run_cell_async\nFile \"C:\\Users\\F_Mota\\AppData\\Roaming\\Python\\Python310\\site-packages\\IPython\\core\\interactiveshell.py\", line 3517, in run_ast_nodes\nFile \"C:\\Users\\F_Mota\\AppData\\Roaming\\Python\\Python310\\site-packages\\IPython\\core\\interactiveshell.py\", line 3577, in run_code\nFile \"C:\\Users\\F_Mota\\AppData\\Local\\Temp\\ipykernel_30264\\2426496283.py\", line 9, in <module>\nFile \"C:\\Users\\F_Mota\\AppData\\Roaming\\Python\\Python310\\site-packages\\keras\\src\\utils\\traceback_utils.py\", line 117, in error_handler\nFile \"C:\\Users\\F_Mota\\AppData\\Roaming\\Python\\Python310\\site-packages\\keras\\src\\backend\\tensorflow\\trainer.py\", line 508, in predict\nFile \"C:\\Users\\F_Mota\\AppData\\Roaming\\Python\\Python310\\site-packages\\keras\\src\\backend\\tensorflow\\trainer.py\", line 208, in one_step_on_data_distributed\nFile \"C:\\Users\\F_Mota\\AppData\\Roaming\\Python\\Python310\\site-packages\\keras\\src\\backend\\tensorflow\\trainer.py\", line 198, in one_step_on_data\nFile \"C:\\Users\\F_Mota\\AppData\\Roaming\\Python\\Python310\\site-packages\\keras\\src\\backend\\tensorflow\\trainer.py\", line 96, in predict_step\nFile \"C:\\Users\\F_Mota\\AppData\\Roaming\\Python\\Python310\\site-packages\\keras\\src\\utils\\traceback_utils.py\", line 117, in error_handler\nFile \"C:\\Users\\F_Mota\\AppData\\Roaming\\Python\\Python310\\site-packages\\keras\\src\\layers\\layer.py\", line 882, in __call__\nFile \"C:\\Users\\F_Mota\\AppData\\Roaming\\Python\\Python310\\site-packages\\keras\\src\\utils\\traceback_utils.py\", line 117, in error_handler\nFile \"C:\\Users\\F_Mota\\AppData\\Roaming\\Python\\Python310\\site-packages\\keras\\src\\ops\\operation.py\", line 46, in __call__\nFile \"C:\\Users\\F_Mota\\AppData\\Roaming\\Python\\Python310\\site-packages\\keras\\src\\utils\\traceback_utils.py\", line 156, in error_handler\nFile \"C:\\Users\\F_Mota\\AppData\\Roaming\\Python\\Python310\\site-packages\\keras\\src\\models\\sequential.py\", line 209, in call\nFile \"C:\\Users\\F_Mota\\AppData\\Roaming\\Python\\Python310\\site-packages\\keras\\src\\models\\functional.py\", line 175, in call\nFile \"C:\\Users\\F_Mota\\AppData\\Roaming\\Python\\Python310\\site-packages\\keras\\src\\ops\\function.py\", line 171, in _run_through_graph\nFile \"C:\\Users\\F_Mota\\AppData\\Roaming\\Python\\Python310\\site-packages\\keras\\src\\models\\functional.py\", line 556, in call\nFile \"C:\\Users\\F_Mota\\AppData\\Roaming\\Python\\Python310\\site-packages\\keras\\src\\utils\\traceback_utils.py\", line 117, in error_handler\nFile \"C:\\Users\\F_Mota\\AppData\\Roaming\\Python\\Python310\\site-packages\\keras\\src\\layers\\layer.py\", line 882, in __call__\nFile \"C:\\Users\\F_Mota\\AppData\\Roaming\\Python\\Python310\\site-packages\\keras\\src\\utils\\traceback_utils.py\", line 117, in error_handler\nFile \"C:\\Users\\F_Mota\\AppData\\Roaming\\Python\\Python310\\site-packages\\keras\\src\\ops\\operation.py\", line 46, in __call__\nFile \"C:\\Users\\F_Mota\\AppData\\Roaming\\Python\\Python310\\site-packages\\keras\\src\\utils\\traceback_utils.py\", line 156, in error_handler\nFile \"C:\\Users\\F_Mota\\AppData\\Roaming\\Python\\Python310\\site-packages\\keras\\src\\layers\\convolutional\\base_conv.py\", line 243, in call\nFile \"C:\\Users\\F_Mota\\AppData\\Roaming\\Python\\Python310\\site-packages\\keras\\src\\layers\\convolutional\\base_conv.py\", line 233, in convolution_op\nFile \"C:\\Users\\F_Mota\\AppData\\Roaming\\Python\\Python310\\site-packages\\keras\\src\\ops\\nn.py\", line 909, in conv\nFile \"C:\\Users\\F_Mota\\AppData\\Roaming\\Python\\Python310\\site-packages\\keras\\src\\backend\\tensorflow\\nn.py\", line 254, in conv\nFile \"C:\\Users\\F_Mota\\AppData\\Roaming\\Python\\Python310\\site-packages\\keras\\src\\backend\\tensorflow\\nn.py\", line 244, in _conv_xla\nFile \"C:\\Users\\F_Mota\\AppData\\Roaming\\Python\\Python310\\site-packages\\keras\\src\\backend\\tensorflow\\nn.py\", line 231, in _conv\n\n\t [[{{node convolution}}]]\n\ttf2xla conversion failed while converting __inference__conv_xla_461[]. Run with TF_DUMP_GRAPH_PREFIX=/path/to/dump/dir and --vmodule=xla_compiler=2 to obtain a dump of the compiled functions.\n\t [[sequential_1_1/conv2d_2_1/StatefulPartitionedCall]] [Op:__inference_one_step_on_data_distributed_491]"
     ]
    }
   ],
   "source": [
    "path = 'ImagesNet/Jeans002.jpg'\n",
    "res = load_image_from_path(path)\n",
    "\n",
    "res = np.asarray([res])\n",
    "\n",
    "res[0:1].shape\n",
    "\n",
    "\n",
    "pred =  caption_model.predict(res)\n",
    "label = np.argmax(pred)\n",
    "print(dict[label])\n",
    "\n",
    "\n",
    "image = mpimg.imread(path)\n",
    "image = plt.imshow(image)"
   ]
  },
  {
   "cell_type": "code",
   "execution_count": 9,
   "metadata": {},
   "outputs": [
    {
     "data": {
      "text/plain": [
       "2"
      ]
     },
     "execution_count": 9,
     "metadata": {},
     "output_type": "execute_result"
    }
   ],
   "source": [
    "data_ = np.load(r\"../Dataset/Trousers & Jeans - All - Train.npz\")\n",
    "\n",
    "data_['labels'][10]"
   ]
  },
  {
   "cell_type": "code",
   "execution_count": 29,
   "metadata": {},
   "outputs": [
    {
     "name": "stdout",
     "output_type": "stream",
     "text": [
      "Calça de malha feminina\n"
     ]
    },
    {
     "data": {
      "text/plain": [
       "<matplotlib.image.AxesImage at 0x1d54fd23760>"
      ]
     },
     "execution_count": 29,
     "metadata": {},
     "output_type": "execute_result"
    },
    {
     "data": {
      "image/png": "[encoded data removed]",
      "text/plain": [
       "<Figure size 640x480 with 1 Axes>"
      ]
     },
     "metadata": {},
     "output_type": "display_data"
    }
   ],
   "source": [
    "from random import randrange\n",
    "num = randrange(4000)\n",
    "\n",
    "dict_J_T = {\n",
    "  0: \"Trousers\",\n",
    "  1: \"Jeans\"\n",
    "}\n",
    "\n",
    "dict_ = {\n",
    "  0: \"Calça de malha masculina\",\n",
    "  1: \"Jeans Masculino\",\n",
    "  2: \"Calça de malha feminina\",\n",
    "  3: \"Jeans Feminino\"\n",
    "}\n",
    "\n",
    "#for i in range(100):\n",
    "print(dict_[data_['labels'][num]])\n",
    "  #print(i)\n",
    "\n",
    "#data_['genders'][0]\n",
    "#data_['labels'][0]\n",
    "img = data_['images'][num]\n",
    "\n",
    "\n",
    "img = Image.fromarray(img, 'RGB')\n",
    "#from matplotlib import cm\n",
    "#img = Image.fromarray(np.uint8(cm.gist_earth(img)))\n",
    "\n",
    "plt.imshow(img)"
   ]
  },
  {
   "cell_type": "code",
   "execution_count": 30,
   "metadata": {},
   "outputs": [
    {
     "name": "stdout",
     "output_type": "stream",
     "text": [
      "\u001b[1m51/51\u001b[0m \u001b[32m━━━━━━━━━━━━━━━━━━━━\u001b[0m\u001b[37m\u001b[0m \u001b[1m1s\u001b[0m 11ms/step - accuracy: 0.9989 - loss: 0.0176\n"
     ]
    }
   ],
   "source": [
    "test_loss, test_accuracy = caption_model.evaluate(images_test,labels_test)"
   ]
  }
 ],
 "metadata": {
  "kernelspec": {
   "display_name": "Python 3",
   "language": "python",
   "name": "python3"
  },
  "language_info": {
   "codemirror_mode": {
    "name": "ipython",
    "version": 3
   },
   "file_extension": ".py",
   "mimetype": "text/x-python",
   "name": "python",
   "nbconvert_exporter": "python",
   "pygments_lexer": "ipython3",
   "version": "3.10.5"
  }
 },
 "nbformat": 4,
 "nbformat_minor": 2
}
